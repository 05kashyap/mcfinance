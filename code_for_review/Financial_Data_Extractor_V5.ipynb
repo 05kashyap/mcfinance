{
 "cells": [
  {
   "cell_type": "markdown",
   "metadata": {},
   "source": [
    "# Financial Data Extractor V5.2\n",
    "### add exception handling\n",
    "### add Test case\n",
    "### add feature to extract name from web and name file or keep user defined name (cond in constructor)"
   ]
  },
  {
   "cell_type": "code",
   "execution_count": 1,
   "metadata": {},
   "outputs": [],
   "source": [
    "import requests\n",
    "import re\n",
    "import pandas as pd\n",
    "from bs4 import BeautifulSoup\n",
    "#import html5lib \n",
    "import lxml\n",
    "import matplotlib.pyplot as plt\n",
    "%matplotlib inline\n"
   ]
  },
  {
   "cell_type": "code",
   "execution_count": 2,
   "metadata": {},
   "outputs": [],
   "source": [
    "from cachetools import cached, TTLCache"
   ]
  },
  {
   "cell_type": "code",
   "execution_count": 3,
   "metadata": {},
   "outputs": [],
   "source": [
    "class Financial_Extractor:\n",
    "    report_cache = TTLCache(maxsize=100, ttl=3600) \n",
    "    L1_cache = TTLCache(maxsize=100, ttl=3600) \n",
    "    \n",
    "\n",
    "    def __init__(self, user_input, years = 10, docs = [\"balance sheet\",\"profit loss\",\"cash flow\"], filepath = \"\") -> None:\n",
    "        self.user_input = user_input.replace(\" \",\"\")\n",
    "        self.years = years\n",
    "        self.docs = docs\n",
    "        if(self.user_input.isnumeric() and len(self.user_input) == 6):\n",
    "            self.company = self.__comp_name(self.user_input)\n",
    "        else:\n",
    "            self.company = self.user_input\n",
    "        self.filepath = filepath\n",
    "\n",
    "    def plotter(self,attr,doc=\"balance sheet\"):\n",
    "        df = self.search_gen(self.company+\" moneycontrol consolidated \"+ doc, self.years)\n",
    "        row_num = df[df[df.columns[0]] == attr].index\n",
    "        #column_names = list(df.columns)\n",
    "        col_names = df.loc[0, :].values.flatten().tolist()\n",
    "        X = col_names[1:]\n",
    "        X.reverse()\n",
    "        print(X)\n",
    "        row_list = df.loc[row_num, :].values.flatten().tolist()\n",
    "        Y = row_list[1:]\n",
    "        Y.reverse()\n",
    "        Y = [float(i) for i in Y]\n",
    "        print(Y)\n",
    "        plt.plot(X,Y,\"-o\")\n",
    "        plt.show()\n",
    "\n",
    "\n",
    "    @cached(cache=L1_cache)\n",
    "    def __urlfinder(self,search_term):\n",
    "    \n",
    "        results = 5\n",
    "        page = requests.get(f\"http://www.google.com/search?q={search_term}&num={results}\")\n",
    "        print(page)\n",
    "        soup1 = BeautifulSoup(page.content, \"html5lib\")\n",
    "        links = soup1.findAll(\"a\")\n",
    "        for link in links :\n",
    "            link_href = link.get('href')\n",
    "            if \"url?q=\" in link_href and not \"webcache\" in link_href:\n",
    "                link_g = link.get('href').split(\"?q=\")[1].split(\"&sa=U\")[0]\n",
    "                return link_g\n",
    "            \n",
    "    def __comp_name(self,ticker):\n",
    "        page = requests.get(f\"https://www.google.com/search?q=bombay+india+{ticker}\")\n",
    "        soup1 = BeautifulSoup(page.content, \"html5lib\")\n",
    "        links = soup1.findAll(\"a\")\n",
    "        for link in links :\n",
    "            link_href = link.get('href')\n",
    "            if \"url?q=\" in link_href and not \"webcache\" in link_href:\n",
    "                link_g = link.get('href').split(\"?q=\")[1].split(\"&sa=U\")[0]\n",
    "                if(link_g.split('.')[1] == \"bseindia\"):\n",
    "                    return link_g.split(\"/\")[4]\n",
    "    \n",
    "    @cached(cache=report_cache)\n",
    "    def __retinfo(self, url) -> pd.DataFrame:\n",
    "        new_url = url.replace(\"https\",\"http\")\n",
    "        url = requests.get(new_url)\n",
    "        dfs = pd.read_html(url.text)\n",
    "        df = dfs[0]\n",
    "        return df\n",
    "\n",
    "    def __excel_writer(self, daf, words) -> None:\n",
    "        web, name, info = words[1], words[0], (words[3]+words[4])\n",
    "        if self.filepath != \"\":\n",
    "            self.filepath += \"/\"\n",
    "        writer = pd.ExcelWriter(self.filepath+web+'_'+name+'_'+info+'.xlsx')\n",
    "        daf.to_excel(writer)\n",
    "        writer.close()\n",
    "        print(f'{name} {info} data is written successfully to Excel File.')\n",
    "    \n",
    "    def __prd(self, url, period, last, trm, a) -> pd.DataFrame:\n",
    "        if period > a or period//5 == trm:\n",
    "            df = self.__retinfo(url)\n",
    "            df.drop(df.columns[[0,6]], inplace = True, axis=1)\n",
    "            if(period == a+5 and last == 0):\n",
    "                return df\n",
    "            else:\n",
    "                df.drop(columns = df.columns[-last:], inplace = True, axis=1)\n",
    "            return df\n",
    "\n",
    "    def search_gen(self, search_term, period) -> pd.DataFrame:\n",
    "        term = period%5\n",
    "        last = 5 - period\n",
    "        #generate datafrane from the search term\n",
    "        url = self.__urlfinder(search_term)\n",
    "        urls = []\n",
    "        urls = []\n",
    "        for i in range(2,5):\n",
    "            urlt = url + \"/\" + str(i) + \"#\" + url.split('/')[6]\n",
    "            urls.append(urlt)\n",
    "    #cleaning up the tables\n",
    "        df1 = self.__retinfo(url)\n",
    "        df1.drop(df1.columns[len(df1.columns)-1], inplace = True, axis = 1)\n",
    "        if(period == 5 and last == 0):\n",
    "            fdf = df1\n",
    "            return fdf\n",
    "        elif period < 5:\n",
    "            df1.drop(columns = df1.columns[-last:], inplace = True, axis=1)\n",
    "        fdf = df1\n",
    "        i=1\n",
    "        a = 5\n",
    "        for url in urls:\n",
    "            df = self.__prd(url, period, last, i, a)\n",
    "            fdf = pd.concat([fdf, df], join=\"inner\", ignore_index=True, axis=1)\n",
    "            i+=1\n",
    "            a+=5\n",
    "        \n",
    "        fdf = fdf.drop(fdf.iloc[:, self.years+1:],axis = 1)\n",
    "        \n",
    "        return fdf\n",
    "\n",
    "    def get_info(self) -> None:\n",
    "        print(\"retrieving data...\")\n",
    "        for doc in self.docs:\n",
    "        #generate data from docs\n",
    "            stx = self.company\n",
    "            stx += \" moneycontrol consolidated \"+ doc\n",
    "            self.__excel_writer(self.search_gen(stx, self.years), stx.split())"
   ]
  },
  {
   "cell_type": "code",
   "execution_count": 4,
   "metadata": {},
   "outputs": [
    {
     "name": "stdout",
     "output_type": "stream",
     "text": [
      "<Response [200]>\n",
      "['Mar 18', 'Mar 19', 'Mar 20', 'Mar 21', 'Mar 22', 'Mar 23']\n",
      "[10216.0, 10411.0, 18935.0, 18743.0, 18410.0, 17790.0]\n"
     ]
    },
    {
     "data": {
      "image/png": "[encoded data removed]",
      "text/plain": [
       "<Figure size 640x480 with 1 Axes>"
      ]
     },
     "metadata": {},
     "output_type": "display_data"
    }
   ],
   "source": [
    "cmp = Financial_Extractor(\"TCS\", 6)\n",
    "cmp.plotter(attr='Tangible Assets')\n",
    "\n",
    "#cmp.get_info()"
   ]
  },
  {
   "cell_type": "code",
   "execution_count": 5,
   "metadata": {},
   "outputs": [
    {
     "name": "stdout",
     "output_type": "stream",
     "text": [
      "retrieving data...\n",
      "<Response [200]>\n",
      "TCS balancesheet data is written successfully to Excel File.\n",
      "<Response [200]>\n"
     ]
    },
    {
     "ename": "PermissionError",
     "evalue": "[Errno 13] Permission denied: 'moneycontrol_TCS_profitloss.xlsx'",
     "output_type": "error",
     "traceback": [
      "\u001b[1;31m---------------------------------------------------------------------------\u001b[0m",
      "\u001b[1;31mPermissionError\u001b[0m                           Traceback (most recent call last)",
      "Cell \u001b[1;32mIn[5], line 3\u001b[0m\n\u001b[0;32m      1\u001b[0m \u001b[39m#max years 20, add exception handling\u001b[39;00m\n\u001b[0;32m      2\u001b[0m company \u001b[39m=\u001b[39m Financial_Extractor(\u001b[39m\"\u001b[39m\u001b[39mTCS\u001b[39m\u001b[39m\"\u001b[39m, \u001b[39m6\u001b[39m)\n\u001b[1;32m----> 3\u001b[0m company\u001b[39m.\u001b[39;49mget_info()\n",
      "Cell \u001b[1;32mIn[3], line 122\u001b[0m, in \u001b[0;36mFinancial_Extractor.get_info\u001b[1;34m(self)\u001b[0m\n\u001b[0;32m    120\u001b[0m stx \u001b[39m=\u001b[39m \u001b[39mself\u001b[39m\u001b[39m.\u001b[39mcompany\n\u001b[0;32m    121\u001b[0m stx \u001b[39m+\u001b[39m\u001b[39m=\u001b[39m \u001b[39m\"\u001b[39m\u001b[39m moneycontrol consolidated \u001b[39m\u001b[39m\"\u001b[39m\u001b[39m+\u001b[39m doc\n\u001b[1;32m--> 122\u001b[0m \u001b[39mself\u001b[39;49m\u001b[39m.\u001b[39;49m__excel_writer(\u001b[39mself\u001b[39;49m\u001b[39m.\u001b[39;49msearch_gen(stx, \u001b[39mself\u001b[39;49m\u001b[39m.\u001b[39;49myears), stx\u001b[39m.\u001b[39;49msplit())\n",
      "Cell \u001b[1;32mIn[3], line 70\u001b[0m, in \u001b[0;36mFinancial_Extractor.__excel_writer\u001b[1;34m(self, daf, words)\u001b[0m\n\u001b[0;32m     68\u001b[0m \u001b[39mif\u001b[39;00m \u001b[39mself\u001b[39m\u001b[39m.\u001b[39mfilepath \u001b[39m!=\u001b[39m \u001b[39m\"\u001b[39m\u001b[39m\"\u001b[39m:\n\u001b[0;32m     69\u001b[0m     \u001b[39mself\u001b[39m\u001b[39m.\u001b[39mfilepath \u001b[39m+\u001b[39m\u001b[39m=\u001b[39m \u001b[39m\"\u001b[39m\u001b[39m/\u001b[39m\u001b[39m\"\u001b[39m\n\u001b[1;32m---> 70\u001b[0m writer \u001b[39m=\u001b[39m pd\u001b[39m.\u001b[39;49mExcelWriter(\u001b[39mself\u001b[39;49m\u001b[39m.\u001b[39;49mfilepath\u001b[39m+\u001b[39;49mweb\u001b[39m+\u001b[39;49m\u001b[39m'\u001b[39;49m\u001b[39m_\u001b[39;49m\u001b[39m'\u001b[39;49m\u001b[39m+\u001b[39;49mname\u001b[39m+\u001b[39;49m\u001b[39m'\u001b[39;49m\u001b[39m_\u001b[39;49m\u001b[39m'\u001b[39;49m\u001b[39m+\u001b[39;49minfo\u001b[39m+\u001b[39;49m\u001b[39m'\u001b[39;49m\u001b[39m.xlsx\u001b[39;49m\u001b[39m'\u001b[39;49m)\n\u001b[0;32m     71\u001b[0m daf\u001b[39m.\u001b[39mto_excel(writer)\n\u001b[0;32m     72\u001b[0m writer\u001b[39m.\u001b[39mclose()\n",
      "File \u001b[1;32mc:\\Users\\aryan\\AppData\\Local\\Programs\\Python\\Python311\\Lib\\site-packages\\pandas\\io\\excel\\_openpyxl.py:60\u001b[0m, in \u001b[0;36mOpenpyxlWriter.__init__\u001b[1;34m(self, path, engine, date_format, datetime_format, mode, storage_options, if_sheet_exists, engine_kwargs, **kwargs)\u001b[0m\n\u001b[0;32m     56\u001b[0m \u001b[39mfrom\u001b[39;00m \u001b[39mopenpyxl\u001b[39;00m\u001b[39m.\u001b[39;00m\u001b[39mworkbook\u001b[39;00m \u001b[39mimport\u001b[39;00m Workbook\n\u001b[0;32m     58\u001b[0m engine_kwargs \u001b[39m=\u001b[39m combine_kwargs(engine_kwargs, kwargs)\n\u001b[1;32m---> 60\u001b[0m \u001b[39msuper\u001b[39;49m()\u001b[39m.\u001b[39;49m\u001b[39m__init__\u001b[39;49m(\n\u001b[0;32m     61\u001b[0m     path,\n\u001b[0;32m     62\u001b[0m     mode\u001b[39m=\u001b[39;49mmode,\n\u001b[0;32m     63\u001b[0m     storage_options\u001b[39m=\u001b[39;49mstorage_options,\n\u001b[0;32m     64\u001b[0m     if_sheet_exists\u001b[39m=\u001b[39;49mif_sheet_exists,\n\u001b[0;32m     65\u001b[0m     engine_kwargs\u001b[39m=\u001b[39;49mengine_kwargs,\n\u001b[0;32m     66\u001b[0m )\n\u001b[0;32m     68\u001b[0m \u001b[39m# ExcelWriter replaced \"a\" by \"r+\" to allow us to first read the excel file from\u001b[39;00m\n\u001b[0;32m     69\u001b[0m \u001b[39m# the file and later write to it\u001b[39;00m\n\u001b[0;32m     70\u001b[0m \u001b[39mif\u001b[39;00m \u001b[39m\"\u001b[39m\u001b[39mr+\u001b[39m\u001b[39m\"\u001b[39m \u001b[39min\u001b[39;00m \u001b[39mself\u001b[39m\u001b[39m.\u001b[39m_mode:  \u001b[39m# Load from existing workbook\u001b[39;00m\n",
      "File \u001b[1;32mc:\\Users\\aryan\\AppData\\Local\\Programs\\Python\\Python311\\Lib\\site-packages\\pandas\\io\\excel\\_base.py:1219\u001b[0m, in \u001b[0;36mExcelWriter.__init__\u001b[1;34m(self, path, engine, date_format, datetime_format, mode, storage_options, if_sheet_exists, engine_kwargs)\u001b[0m\n\u001b[0;32m   1215\u001b[0m \u001b[39mself\u001b[39m\u001b[39m.\u001b[39m_handles \u001b[39m=\u001b[39m IOHandles(\n\u001b[0;32m   1216\u001b[0m     cast(IO[\u001b[39mbytes\u001b[39m], path), compression\u001b[39m=\u001b[39m{\u001b[39m\"\u001b[39m\u001b[39mcompression\u001b[39m\u001b[39m\"\u001b[39m: \u001b[39mNone\u001b[39;00m}\n\u001b[0;32m   1217\u001b[0m )\n\u001b[0;32m   1218\u001b[0m \u001b[39mif\u001b[39;00m \u001b[39mnot\u001b[39;00m \u001b[39misinstance\u001b[39m(path, ExcelWriter):\n\u001b[1;32m-> 1219\u001b[0m     \u001b[39mself\u001b[39m\u001b[39m.\u001b[39m_handles \u001b[39m=\u001b[39m get_handle(\n\u001b[0;32m   1220\u001b[0m         path, mode, storage_options\u001b[39m=\u001b[39;49mstorage_options, is_text\u001b[39m=\u001b[39;49m\u001b[39mFalse\u001b[39;49;00m\n\u001b[0;32m   1221\u001b[0m     )\n\u001b[0;32m   1222\u001b[0m \u001b[39mself\u001b[39m\u001b[39m.\u001b[39m_cur_sheet \u001b[39m=\u001b[39m \u001b[39mNone\u001b[39;00m\n\u001b[0;32m   1224\u001b[0m \u001b[39mif\u001b[39;00m date_format \u001b[39mis\u001b[39;00m \u001b[39mNone\u001b[39;00m:\n",
      "File \u001b[1;32mc:\\Users\\aryan\\AppData\\Local\\Programs\\Python\\Python311\\Lib\\site-packages\\pandas\\io\\common.py:868\u001b[0m, in \u001b[0;36mget_handle\u001b[1;34m(path_or_buf, mode, encoding, compression, memory_map, is_text, errors, storage_options)\u001b[0m\n\u001b[0;32m    859\u001b[0m         handle \u001b[39m=\u001b[39m \u001b[39mopen\u001b[39m(\n\u001b[0;32m    860\u001b[0m             handle,\n\u001b[0;32m    861\u001b[0m             ioargs\u001b[39m.\u001b[39mmode,\n\u001b[1;32m   (...)\u001b[0m\n\u001b[0;32m    864\u001b[0m             newline\u001b[39m=\u001b[39m\u001b[39m\"\u001b[39m\u001b[39m\"\u001b[39m,\n\u001b[0;32m    865\u001b[0m         )\n\u001b[0;32m    866\u001b[0m     \u001b[39melse\u001b[39;00m:\n\u001b[0;32m    867\u001b[0m         \u001b[39m# Binary mode\u001b[39;00m\n\u001b[1;32m--> 868\u001b[0m         handle \u001b[39m=\u001b[39m \u001b[39mopen\u001b[39;49m(handle, ioargs\u001b[39m.\u001b[39;49mmode)\n\u001b[0;32m    869\u001b[0m     handles\u001b[39m.\u001b[39mappend(handle)\n\u001b[0;32m    871\u001b[0m \u001b[39m# Convert BytesIO or file objects passed with an encoding\u001b[39;00m\n",
      "\u001b[1;31mPermissionError\u001b[0m: [Errno 13] Permission denied: 'moneycontrol_TCS_profitloss.xlsx'"
     ]
    }
   ],
   "source": [
    "\n",
    "#max years 20, add exception handling\n",
    "company = Financial_Extractor(\"TCS\", 6)\n",
    "company.get_info()"
   ]
  },
  {
   "cell_type": "markdown",
   "metadata": {
    "jp-MarkdownHeadingCollapsed": true
   },
   "source": [
    "## Changelog:\n",
    "### -further modularized and made the extractor into a class for ease of use and easier packaging\n",
    "### -added BSE number/NSE option\n",
    "### -added functionality to add number of years for financial statements\n",
    "### avoids multiple webpage scraping based on number of years"
   ]
  },
  {
   "cell_type": "markdown",
   "metadata": {},
   "source": []
  }
 ],
 "metadata": {
  "kernelspec": {
   "display_name": "Python 3 (ipykernel)",
   "language": "python",
   "name": "python3"
  },
  "language_info": {
   "codemirror_mode": {
    "name": "ipython",
    "version": 3
   },
   "file_extension": ".py",
   "mimetype": "text/x-python",
   "name": "python",
   "nbconvert_exporter": "python",
   "pygments_lexer": "ipython3",
   "version": "3.11.2"
  }
 },
 "nbformat": 4,
 "nbformat_minor": 4
}
