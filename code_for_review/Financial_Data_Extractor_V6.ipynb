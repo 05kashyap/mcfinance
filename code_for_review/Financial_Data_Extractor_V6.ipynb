{
 "cells": [
  {
   "cell_type": "markdown",
   "metadata": {},
   "source": [
    "# Financial Data Extractor V6"
   ]
  },
  {
   "cell_type": "code",
   "execution_count": 14,
   "metadata": {},
   "outputs": [],
   "source": [
    "import requests\n",
    "import re\n",
    "import pandas as pd\n",
    "from bs4 import BeautifulSoup\n",
    "import html5lib \n",
    "import lxml\n",
    "import matplotlib.pyplot as plt\n",
    "import time\n",
    "%matplotlib inline\n",
    "\n"
   ]
  },
  {
   "cell_type": "code",
   "execution_count": 15,
   "metadata": {},
   "outputs": [],
   "source": [
    "from cachetools import cached, TTLCache"
   ]
  },
  {
   "cell_type": "code",
   "execution_count": 16,
   "metadata": {},
   "outputs": [],
   "source": [
    "class Financial_Extractor:\n",
    "    report_cache = TTLCache(maxsize=100, ttl=3600) \n",
    "    url_cache = TTLCache(maxsize=100, ttl=3600) \n",
    "    \n",
    "\n",
    "    def __init__(self, user_input, years = 10, docs = [\"balance sheet\",\"profit loss\",\"cash flow\"], filepath = \"\") -> None:\n",
    "        '''Initialize extractor with company name, number of years and required documents'''\n",
    "        self.user_input = user_input.replace(\" \",\"\")\n",
    "        self.years = years\n",
    "        self.docs = docs\n",
    "        if(self.user_input.isnumeric() and len(self.user_input) == 6):\n",
    "            self.company = self.__comp_name(self.user_input)\n",
    "        else:\n",
    "            self.company = self.user_input\n",
    "        self.filepath = filepath\n",
    "\n",
    "    def plotter(self,attr,doc=\"balance sheet\"):\n",
    "        '''Plots a specific company attribute over selected years'''\n",
    "        df = self.search_gen(self.company+\" moneycontrol consolidated \"+ doc, self.years)\n",
    "        row_num = df[df[df.columns[0]] == attr].index\n",
    "        #column_names = list(df.columns)\n",
    "        col_names = df.loc[0, :].values.flatten().tolist()\n",
    "        X = col_names[1:]\n",
    "        X.reverse()\n",
    "        row_list = df.loc[row_num, :].values.flatten().tolist()\n",
    "        Y = row_list[1:]\n",
    "        Y.reverse()\n",
    "        Y = [float(i) for i in Y]\n",
    "        plt.plot(X,Y,\"-o\")\n",
    "        plt.xlabel(\"month-year\")\n",
    "        plt.ylabel(attr)\n",
    "        plt.show()\n",
    "\n",
    "\n",
    "    @cached(cache=url_cache)\n",
    "    def __urlfinder(self,search_term):\n",
    "        '''Find google search results'''\n",
    "        results = 5\n",
    "    \n",
    "        page = requests.get(f\"http://www.google.com/search?q={search_term}&num={results}\")\n",
    "        while(page.status_code == 429):\n",
    "            time.sleep(5)\n",
    "            page = requests.get(f\"http://www.google.com/search?q={search_term}&num={results}\")\n",
    "            if(page.status_code ==200):\n",
    "                break\n",
    "\n",
    "        soup1 = BeautifulSoup(page.content, \"html5lib\")\n",
    "        links = soup1.findAll(\"a\")\n",
    "        for link in links :\n",
    "            link_href = link.get('href')\n",
    "            if \"url?q=\" in link_href and not \"webcache\" in link_href:\n",
    "                link_g = link.get('href').split(\"?q=\")[1].split(\"&sa=U\")[0]\n",
    "                return link_g\n",
    "            \n",
    "    def __comp_name(self,ticker):\n",
    "        '''Find company name from ticker number (experimental)'''\n",
    "        page = requests.get(f\"https://www.google.com/search?q=bombay+india+{ticker}\")\n",
    "        soup1 = BeautifulSoup(page.content, \"html5lib\")\n",
    "        links = soup1.findAll(\"a\")\n",
    "        for link in links :\n",
    "            link_href = link.get('href')\n",
    "            if \"url?q=\" in link_href and not \"webcache\" in link_href:\n",
    "                link_g = link.get('href').split(\"?q=\")[1].split(\"&sa=U\")[0]\n",
    "                if(link_g.split('.')[1] == \"bseindia\"):\n",
    "                    return link_g.split(\"/\")[4]\n",
    "    \n",
    "    @cached(cache=report_cache)\n",
    "    def __retinfo(self, url) -> pd.DataFrame:\n",
    "        '''Extract tables from a url'''  \n",
    "        new_url = url.replace(\"https\",\"http\")\n",
    "        url = requests.get(new_url)\n",
    "        dfs = pd.read_html(url.text)\n",
    "        df = dfs[0]\n",
    "        return df\n",
    "\n",
    "    def __excel_writer(self, daf, words) -> None:\n",
    "        '''Write dataframe into .excel file'''\n",
    "        web, name, info = words[1], words[0], (words[3]+words[4])\n",
    "        if self.filepath != \"\":\n",
    "            self.filepath += \"/\"\n",
    "        writer = pd.ExcelWriter(self.filepath+web+'_'+name+'_'+info+'.xlsx')\n",
    "        daf.to_excel(writer)\n",
    "        writer.close()\n",
    "        print(f'{name} {info} data is written successfully to Excel File.')\n",
    "    \n",
    "    def __prd(self, url, period, last, trm, a) -> pd.DataFrame:\n",
    "        '''Retrieve data for multiple years'''\n",
    "        if period > a or period//5 == trm:\n",
    "            df = self.__retinfo(url)\n",
    "            df.drop(df.columns[[0,6]], inplace = True, axis=1)\n",
    "            if(period == a+5 and last == 0):\n",
    "                return df\n",
    "            else:\n",
    "                df.drop(columns = df.columns[-last:], inplace = True, axis=1)\n",
    "            return df\n",
    "\n",
    "    def search_gen(self, search_term, period) -> pd.DataFrame:\n",
    "        '''Handles retrieval of data and generation of urls'''\n",
    "        term = period%5\n",
    "        last = 5 - period\n",
    "        #generate datafrane from the search term\n",
    "        url = self.__urlfinder(search_term)\n",
    "        urls = []\n",
    "        urls = []\n",
    "        for i in range(2,5):\n",
    "            urlt = url + \"/\" + str(i) + \"#\" + url.split('/')[6]\n",
    "            urls.append(urlt)\n",
    "        #cleaning up the tables\n",
    "        df1 = self.__retinfo(url)\n",
    "        df1.drop(df1.columns[len(df1.columns)-1], inplace = True, axis = 1)\n",
    "        if(period == 5 and last == 0):\n",
    "            fdf = df1\n",
    "            return fdf\n",
    "        elif period < 5:\n",
    "            df1.drop(columns = df1.columns[-last:], inplace = True, axis=1)\n",
    "        fdf = df1\n",
    "        i=1\n",
    "        a = 5\n",
    "        for url in urls:\n",
    "            df = self.__prd(url, period, last, i, a)\n",
    "            fdf = pd.concat([fdf, df], join=\"inner\", ignore_index=True, axis=1)\n",
    "            i+=1\n",
    "            a+=5\n",
    "        \n",
    "        fdf = fdf.drop(fdf.iloc[:, self.years+1:],axis = 1)\n",
    "        \n",
    "        return fdf\n",
    "\n",
    "    def get_info(self) -> None:\n",
    "        '''User callable function to retrieve required data'''\n",
    "        print(\"retrieving data...\")\n",
    "        for doc in self.docs:\n",
    "        #generate data from docs\n",
    "            stx = self.company\n",
    "            stx += \" moneycontrol consolidated \"+ doc\n",
    "            self.__excel_writer(self.search_gen(stx, self.years), stx.split())"
   ]
  },
  {
   "cell_type": "code",
   "execution_count": 17,
   "metadata": {},
   "outputs": [
    {
     "data": {
      "image/png": "[encoded data removed]",
      "text/plain": [
       "<Figure size 640x480 with 1 Axes>"
      ]
     },
     "metadata": {},
     "output_type": "display_data"
    }
   ],
   "source": [
    "cmp = Financial_Extractor(\"TCS\", 6)\n",
    "cmp.plotter(attr='Tangible Assets')\n",
    "\n",
    "#cmp.get_info()"
   ]
  },
  {
   "cell_type": "code",
   "execution_count": 18,
   "metadata": {},
   "outputs": [
    {
     "name": "stdout",
     "output_type": "stream",
     "text": [
      "retrieving data...\n",
      "TCS balancesheet data is written successfully to Excel File.\n",
      "TCS profitloss data is written successfully to Excel File.\n",
      "TCS cashflow data is written successfully to Excel File.\n"
     ]
    }
   ],
   "source": [
    "\n",
    "#max years 20, add exception handling\n",
    "company = Financial_Extractor(\"TCS\", 6)\n",
    "company.get_info()"
   ]
  },
  {
   "cell_type": "markdown",
   "metadata": {
    "jp-MarkdownHeadingCollapsed": true
   },
   "source": [
    "## Changelog:\n",
    "### -further modularized and made the extractor into a class for ease of use and easier packaging\n",
    "### -added BSE number/NSE option\n",
    "### -added functionality to add number of years for financial statements\n",
    "### avoids multiple webpage scraping based on number of years\n",
    "### -added cacheing to make scraping the same page again faster\n",
    "### -added"
   ]
  },
  {
   "cell_type": "markdown",
   "metadata": {},
   "source": []
  }
 ],
 "metadata": {
  "kernelspec": {
   "display_name": "Python 3 (ipykernel)",
   "language": "python",
   "name": "python3"
  },
  "language_info": {
   "codemirror_mode": {
    "name": "ipython",
    "version": 3
   },
   "file_extension": ".py",
   "mimetype": "text/x-python",
   "name": "python",
   "nbconvert_exporter": "python",
   "pygments_lexer": "ipython3",
   "version": "3.11.2"
  }
 },
 "nbformat": 4,
 "nbformat_minor": 4
}
